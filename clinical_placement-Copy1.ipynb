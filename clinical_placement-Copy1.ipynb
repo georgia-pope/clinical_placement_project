{
 "cells": [
  {
   "cell_type": "code",
   "execution_count": null,
   "metadata": {},
   "outputs": [],
   "source": [
    "import numpy as np\n",
    "import pandas as pd\n",
    "import matplotlib.pyplot as plt\n",
    "from tqdm import tqdm\n",
    "import ast\n",
    "import math\n",
    "import random\n",
    "import seaborn as sns\n"
   ]
  },
  {
   "cell_type": "code",
   "execution_count": null,
   "metadata": {},
   "outputs": [],
   "source": [
    "preferences = pd.read_csv('Fall_clinical_placements.csv')\n",
    "preferences = preferences[preferences.columns[:8]].copy()\n",
    "\n",
    "display(preferences)\n",
    "def string_to_num(choice):\n",
    "    if choice == 'First Choice':\n",
    "        return 1\n",
    "    elif choice == 'Second Choice':\n",
    "        return 2\n",
    "    else:\n",
    "        return 3\n",
    "    \n",
    "preferences.mask(preferences == 'First Choice', 1 , inplace=True )\n",
    "preferences.mask(preferences == 'Second Choice', 2 , inplace=True )\n",
    "preferences.mask(preferences == 'Third Chice', 3 , inplace=True )\n",
    "preferences.mask(preferences == 'Third Choice', 3 , inplace=True )\n",
    "preferences.mask(preferences == 'third Chice', 3 , inplace=True )\n",
    "preferences.mask(preferences == 'Med Surg', '[1,2]', inplace=True)\n",
    "preferences.mask(preferences == 'Psych', '[2,1]', inplace=True)\n",
    "\n",
    "print(preferences.columns)\n",
    "preferences.columns = ['Name', 'r', '[0,0]', '[0,1]', '[0,2]', '[1,0]', '[1,1]', '[1,2]']\n"
   ]
  },
  {
   "cell_type": "code",
   "execution_count": null,
   "metadata": {},
   "outputs": [],
   "source": [
    "preferences.sort_values('Name',inplace=True)"
   ]
  },
  {
   "cell_type": "code",
   "execution_count": null,
   "metadata": {
    "scrolled": true
   },
   "outputs": [],
   "source": [
    "# Preparing data\n",
    "\n",
    "N = 2 # num rotations\n",
    "M = 3 # num placements\n",
    "num_students = preferences.shape[0]\n",
    "S = np.zeros((num_students,N,M))\n",
    "for col in preferences.columns[2:]: \n",
    "    # Converting string to list\n",
    "    rotation_idx = ast.literal_eval(col)\n",
    "    S[:,rotation_idx[0],rotation_idx[1]] = preferences[col]\n",
    "\n",
    "r = np.zeros((num_students, 2))\n",
    "for i in range(num_students):\n",
    "    r[i,] = ast.literal_eval(preferences['r'][i])\n",
    "    \n",
    "pp = np.zeros((num_students, 1))\n",
    "pp[[9,11,13,18,26]] = 1\n",
    "\n",
    "\n",
    "print(f'S: {S.shape}')\n",
    "print(f'r: {r.shape}')\n",
    "print(f'pp: {pp.shape}')"
   ]
  },
  {
   "cell_type": "code",
   "execution_count": null,
   "metadata": {},
   "outputs": [],
   "source": [
    "def G(S, r, pp):\n",
    "    S_prime = np.zeros((num_students,N,M))\n",
    "    for i in range(S.shape[0]):\n",
    "        S_prime_i = np.zeros((N,M))\n",
    "        for row in range(N):\n",
    "            for col in range(M):\n",
    "                val = 0\n",
    "                preference = S[i,row,col]\n",
    "                # First do G()\n",
    "                if preference == 1:\n",
    "                    val += 0\n",
    "                elif preference == 2:\n",
    "                    val += (-1)\n",
    "                elif preference == 3:\n",
    "                    val += (-3)\n",
    "                else:\n",
    "                    print('Not a valid preference')\n",
    "                    \n",
    "                # Now add rotation ranking and preference points\n",
    "                rotation_rank = r[i,row]\n",
    "                if rotation_rank == 1:\n",
    "                    val += 2\n",
    "                    val += math.ceil(pp[i]//N)\n",
    "                elif rotation_rank == 2:\n",
    "                    val +=1\n",
    "                    val += math.ceil((pp[i]-1)//N)\n",
    "                elif rotation_rank == 3:\n",
    "                    val += 0\n",
    "                    val += math.ceil((pp[i]-2)//N)\n",
    "                else:\n",
    "                    print('Not a valid rotation rank')\n",
    "                S_prime_i[row,col] = val\n",
    "        S_prime[i] = S_prime_i\n",
    "    return S_prime\n",
    "\n",
    "S_prime = G(S,r,pp)"
   ]
  },
  {
   "cell_type": "code",
   "execution_count": null,
   "metadata": {
    "scrolled": true
   },
   "outputs": [],
   "source": [
    "restrictions = np.asarray([\n",
    "    [[1, 0], # Monday Med Surg (0,0)\n",
    "     [], # Friday Med Surg (0,1)\n",
    "     [1,2]], # Saturday Med Surg (0,2)\n",
    "    [[0,0], # Monday Psych (1,0)\n",
    "     [], # Thursday Psych (1,1)\n",
    "     [0,2]] # Saturday Psych (1,2) \n",
    "], dtype=object)\n",
    "\n",
    "restrictions\n"
   ]
  },
  {
   "cell_type": "code",
   "execution_count": null,
   "metadata": {},
   "outputs": [],
   "source": [
    "# Preparing data for algorithm\n",
    "\n",
    "# just holds the score for a placement\n",
    "preference_list=np.zeros((num_students * N * M, ), dtype=int) \n",
    "\n",
    "# holds metadata about placement (student_id, rotation, placement)\n",
    "preference_list_meta_data = np.zeros((num_students*N*M, 3),dtype=int)  \n",
    "\n",
    "i = 0\n",
    "for k in range(num_students):\n",
    "    S_prime_k = S_prime[k]\n",
    "    for row in range(N):\n",
    "        for col in range(M):\n",
    "            preference_list_meta_data[i] = [k, row, col] \n",
    "            preference_list[i] = S_prime_k[row,col]\n",
    "            i += 1              "
   ]
  },
  {
   "cell_type": "code",
   "execution_count": null,
   "metadata": {},
   "outputs": [],
   "source": [
    "# Remove saturday's for Avi\n",
    "\n",
    "fri_sat_list = np.asarray([(5,0,1), (5,0,2), (5,1,2)])\n",
    "# fri_sat_list = np.asarray([(5,0,2), (5,1,2)])\n",
    "\n",
    "preference_mask = np.invert((\n",
    "        (preference_list_meta_data == fri_sat_list[0]).all(axis=1) | \n",
    "        (preference_list_meta_data == fri_sat_list[1]).all(axis=1) | \n",
    "        (preference_list_meta_data == fri_sat_list[2]).all(axis=1)\n",
    "    ))\n",
    "preference_list_meta_data = preference_list_meta_data[preference_mask]\n",
    "preference_list = preference_list[preference_mask]\n",
    "preference_list"
   ]
  },
  {
   "cell_type": "code",
   "execution_count": null,
   "metadata": {},
   "outputs": [],
   "source": [
    "def place(preferences, preferences_meta):    \n",
    "    total_placements = 0\n",
    "    while total_placements < num_students*2:\n",
    "\n",
    "        # Sort preferences in ascending order\n",
    "        sort_idxs = np.argsort(preferences)\n",
    "        sorted_preferences = preferences[sort_idxs]\n",
    "        sorted_meta = preferences_meta[sort_idxs]\n",
    "\n",
    "        # Sort preferences in descending order\n",
    "        sorted_preferences = sorted_preferences[::-1]\n",
    "        sorted_meta = sorted_meta[::-1]\n",
    "\n",
    "        # Initializa array to keep track of placements left\n",
    "        placement_count = np.zeros((N,M)) + 10\n",
    "        # Initiate final placement dict\n",
    "        placements = {}\n",
    "        # Initialize score\n",
    "        score = 0\n",
    "        while sorted_preferences.shape[0] > 0:\n",
    "            current_student, current_rotation, current_placement = sorted_meta[0]\n",
    "            current_conflicts = restrictions[current_rotation, current_placement]\n",
    "\n",
    "\n",
    "            # Check if current placement is available\n",
    "            if placement_count[current_rotation, current_placement] > 0:\n",
    "                # Add score\n",
    "                score += sorted_preferences[0]\n",
    "\n",
    "                # Place student in preferred location (if statement for adding new dict key or not)\n",
    "                if f'[{current_rotation},{current_placement}]' in placements:\n",
    "                    placements[f'[{current_rotation},{current_placement}]'].append(current_student)\n",
    "                else:\n",
    "                    placements[f'[{current_rotation},{current_placement}]'] = [current_student]\n",
    "\n",
    "                # Update number of placements available\n",
    "                placement_count[current_rotation, current_placement] += (-1)\n",
    "\n",
    "                # Then remove current student from the list (for current rotation)\n",
    "                removal_mask = np.invert(((sorted_meta[:,0] == current_student) & (sorted_meta[:,1] == current_rotation)))\n",
    "                sorted_preferences = sorted_preferences[removal_mask]\n",
    "                sorted_meta = sorted_meta[removal_mask]\n",
    "\n",
    "\n",
    "                # And remove any conflicts\n",
    "                if len(current_conflicts) == 2:\n",
    "                    removal_mask = np.invert(((sorted_meta[:,0] == current_student) & (sorted_meta[:,1] == current_conflicts[0]) & (sorted_meta[:,2] == current_conflicts[1])))\n",
    "                    sorted_preferences = sorted_preferences[removal_mask]\n",
    "                    sorted_meta = sorted_meta[removal_mask]\n",
    "                elif len(current_conflicts) > 2:\n",
    "                    print('Too many conflicts, needs implementation')\n",
    "                else:\n",
    "                    continue\n",
    "\n",
    "            else: # If placement is full\n",
    "                # Remove current entry and keep going\n",
    "                removal_mask = np.invert(((sorted_meta[:,0] == current_student) & (sorted_meta[:,1:2] == current_rotation)))\n",
    "                sorted_preferences = sorted_preferences[1:]\n",
    "                sorted_meta = sorted_meta[1:]\n",
    "        total_placements = np.sum(list(map(len, placements.values())))\n",
    "        if total_placements < num_students*2:\n",
    "            shuffle_idxs = np.linspace(0,preferences.shape[0] - 1, preferences.shape[0]).astype(int)\n",
    "            random.shuffle(shuffle_idxs)\n",
    "            preferences = preferences[shuffle_idxs]\n",
    "            preferences_meta = preferences_meta[shuffle_idxs]\n",
    "    return placements, score\n",
    "        \n",
    "        \n",
    "        \n",
    "    "
   ]
  },
  {
   "cell_type": "code",
   "execution_count": null,
   "metadata": {},
   "outputs": [],
   "source": [
    "best_placements = None\n",
    "best_score = 0\n",
    "for i in tqdm(range(100)):\n",
    "    # Randomize order of preferences\n",
    "    shuffle_idxs = np.linspace(0,preference_list.shape[0] - 1, preference_list.shape[0]).astype(int)\n",
    "    random.shuffle(shuffle_idxs)\n",
    "    preferences = preference_list[shuffle_idxs]\n",
    "    preferences_meta = preference_list_meta_data[shuffle_idxs]\n",
    "    placements, score = place(preference_list, preference_list_meta_data)\n",
    "#     print(score)\n",
    "    if score > best_score:\n",
    "        best_score = score\n",
    "        best_placements = placements\n",
    "#         print(score)\n"
   ]
  },
  {
   "cell_type": "code",
   "execution_count": null,
   "metadata": {
    "scrolled": true
   },
   "outputs": [],
   "source": [
    "best_placements"
   ]
  },
  {
   "cell_type": "code",
   "execution_count": null,
   "metadata": {},
   "outputs": [],
   "source": [
    "# Now we will figure out who go their first, second and third choices\n",
    "def find_which_choice(placements, S):\n",
    "    med_surg_placement_ranking = []\n",
    "    psych_placement_ranking = []\n",
    "    for key in placements.keys():\n",
    "        for student in placements[key]:\n",
    "            placement_list = ast.literal_eval(key)\n",
    "            if placement_list[0] == 0:\n",
    "                med_surg_placement_ranking.append(S[student, placement_list[0], placement_list[1]])\n",
    "            elif placement_list[0] == 1:\n",
    "                psych_placement_ranking.append(S[student, placement_list[0], placement_list[1]])\n",
    "            else:\n",
    "                print(f'oops, {placement_list[0]} is not right!')\n",
    "    return med_surg_placement_ranking, psych_placement_ranking\n",
    "\n",
    "med_surg_placement_ranking, psych_placement_ranking = find_which_choice(best_placements, S)\n",
    "\n",
    "\n",
    "            "
   ]
  },
  {
   "cell_type": "code",
   "execution_count": null,
   "metadata": {},
   "outputs": [],
   "source": [
    "unique, counts = np.unique(np.asarray(psych_placement_ranking), return_counts=True)\n",
    "print(np.asarray((unique, counts)).T)"
   ]
  },
  {
   "cell_type": "code",
   "execution_count": null,
   "metadata": {},
   "outputs": [],
   "source": [
    "unique, counts = np.unique(np.asarray(med_surg_placement_ranking), return_counts=True)\n",
    "print(np.asarray((unique, counts)).T)"
   ]
  },
  {
   "cell_type": "code",
   "execution_count": null,
   "metadata": {},
   "outputs": [],
   "source": [
    "# Now comparing to Joe's placements\n",
    "\n",
    "# Load data\n",
    "actual_placements = pd.read_csv('actual_fall_clinical_placements.csv')\n",
    "actual_placements = actual_placements[actual_placements.columns[:-1]]\n",
    "actual_placements.fillna(0, inplace=True)\n",
    "\n",
    "# Replace strings with integer representation\n",
    "actual_placements.mask(actual_placements == 'PIH', 3 , inplace=True )\n",
    "actual_placements.mask(actual_placements == 'VPH', 2 , inplace=True )\n",
    "actual_placements.mask(actual_placements == 'Cedars', 1 , inplace=True )\n",
    "actual_placements.mask(actual_placements == 'Mon LADMC', 1 , inplace=True )\n",
    "actual_placements.mask(actual_placements == 'MON LADMC', 1 , inplace=True )\n",
    "actual_placements.mask(actual_placements == 'Thurs Gateways', 2 , inplace=True )\n",
    "actual_placements.mask(actual_placements == 'SAT GATEWAYS', 3 , inplace=True )\n",
    "\n",
    "# Add in student id's \n",
    "actual_placements = actual_placements.sort_values('Summer preference points').reset_index(drop=True).reset_index()\n",
    "display(actual_placements.head())\n",
    "student_list = np.asarray(actual_placements['index'])\n",
    "\n",
    "# Convert to index representation\n",
    "med_surg_placement = np.asarray(actual_placements['Med/Surg Choice 1'], dtype=int) - 1\n",
    "psych_placement = np.asarray(actual_placements['Psych Choice 1'], dtype=int) - 1\n",
    "\n"
   ]
  },
  {
   "cell_type": "code",
   "execution_count": null,
   "metadata": {},
   "outputs": [],
   "source": [
    "med_surg_meta = np.concatenate((student_list.reshape((29,1)),np.zeros((29,1)),med_surg_placement.reshape((29,1))), axis=1)\n",
    "psych_meta = np.concatenate((student_list.reshape((29,1)),np.ones((29,1)),psych_placement.reshape((29,1))), axis=1)"
   ]
  },
  {
   "cell_type": "code",
   "execution_count": null,
   "metadata": {},
   "outputs": [],
   "source": [
    "# Get med surg placement scores\n",
    "ms_points_idx = np.zeros(29)\n",
    "for i in range(29):\n",
    "    ms_points_idx[i] = np.where((preference_list_meta_data == med_surg_meta[i]).all(axis=1))[0]\n",
    "ms_points_idx = ms_points_idx.astype(int)"
   ]
  },
  {
   "cell_type": "code",
   "execution_count": null,
   "metadata": {},
   "outputs": [],
   "source": [
    "# Get psych placement scores\n",
    "psych_points_idx = np.zeros(29)\n",
    "for i in range(29):\n",
    "    psych_points_idx[i] = np.where((preference_list_meta_data == psych_meta[i]).all(axis=1))[0]\n",
    "psych_points_idx = psych_points_idx.astype(int)"
   ]
  },
  {
   "cell_type": "code",
   "execution_count": null,
   "metadata": {},
   "outputs": [],
   "source": [
    "# Total score\n",
    "sum(preference_list[psych_points_idx]) + sum(preference_list[ms_points_idx])"
   ]
  },
  {
   "cell_type": "code",
   "execution_count": null,
   "metadata": {},
   "outputs": [],
   "source": [
    "# Now we will figure out who go their first, second and third choices\n",
    "def find_which_choice_joe(med_surg, psych, S):\n",
    "    med_surg_placement_ranking = []\n",
    "    psych_placement_ranking = []\n",
    "    for placement in med_surg:\n",
    "        med_surg_placement_ranking.append(S[int(placement[0]), int(placement[1]), int(placement[2])])\n",
    "    for placement in psych:\n",
    "        psych_placement_ranking.append(S[int(placement[0]), int(placement[1]), int(placement[2])])\n",
    "    return med_surg_placement_ranking, psych_placement_ranking\n",
    "\n",
    "joe_med_surg_placement_ranking, joe_psych_placement_ranking = find_which_choice_joe(med_surg_meta, psych_meta, S)\n"
   ]
  },
  {
   "cell_type": "code",
   "execution_count": null,
   "metadata": {},
   "outputs": [],
   "source": [
    "print('Joes Psych Placements')\n",
    "unique, counts = np.unique(np.asarray(joe_psych_placement_ranking), return_counts=True)\n",
    "print(np.asarray((unique, counts)).T)\n",
    "\n",
    "print('\\n Alg Psych Placements')\n",
    "unique, counts = np.unique(np.asarray(psych_placement_ranking), return_counts=True)\n",
    "print(np.asarray((unique, counts)).T)"
   ]
  },
  {
   "cell_type": "code",
   "execution_count": null,
   "metadata": {},
   "outputs": [],
   "source": [
    "print('Joes Med Surg Placements')\n",
    "unique, counts = np.unique(np.asarray(joe_med_surg_placement_ranking), return_counts=True)\n",
    "print(np.asarray((unique, counts)).T)\n",
    "\n",
    "print('\\n Alg Med Surg Placements')\n",
    "unique, counts = np.unique(np.asarray(med_surg_placement_ranking), return_counts=True)\n",
    "print(np.asarray((unique, counts)).T)"
   ]
  },
  {
   "cell_type": "code",
   "execution_count": null,
   "metadata": {},
   "outputs": [],
   "source": [
    "med_surg_df = pd.DataFrame(list(zip(joe_med_surg_placement_ranking + med_surg_placement_ranking, (['Joe']*29 + ['Algorithm']*29))))\n",
    "psych_df = pd.DataFrame(list(zip(joe_psych_placement_ranking + psych_placement_ranking, (['Joe']*29 + ['Algorithm']*29))))\n",
    "med_surg_df.columns = ['ranking', 'label']\n",
    "psych_df.columns = ['ranking', 'label']"
   ]
  },
  {
   "cell_type": "code",
   "execution_count": null,
   "metadata": {},
   "outputs": [],
   "source": [
    "sns.countplot(data=med_surg_df, x = 'ranking', hue='label', palette='colorblind')\n",
    "plt.title('Psych Placement Comparison')\n",
    "plt.show()\n",
    "\n",
    "sns.countplot(data=psych_df, x = 'ranking', hue='label', palette='colorblind')\n",
    "plt.title('Med Surg Placement Comparison')\n",
    "plt.show()\n",
    "\n",
    "sns.countplot(data=pd.concat([med_surg_df, psych_df]), x = 'ranking', hue='label', palette='colorblind')\n",
    "plt.title('Total Placement Comparison')\n",
    "plt.show()"
   ]
  },
  {
   "cell_type": "code",
   "execution_count": null,
   "metadata": {},
   "outputs": [],
   "source": []
  },
  {
   "cell_type": "code",
   "execution_count": null,
   "metadata": {},
   "outputs": [],
   "source": []
  },
  {
   "cell_type": "code",
   "execution_count": null,
   "metadata": {},
   "outputs": [],
   "source": []
  },
  {
   "cell_type": "code",
   "execution_count": null,
   "metadata": {},
   "outputs": [],
   "source": []
  },
  {
   "cell_type": "code",
   "execution_count": null,
   "metadata": {},
   "outputs": [],
   "source": []
  }
 ],
 "metadata": {
  "kernelspec": {
   "display_name": "Python 3",
   "language": "python",
   "name": "python3"
  },
  "language_info": {
   "codemirror_mode": {
    "name": "ipython",
    "version": 3
   },
   "file_extension": ".py",
   "mimetype": "text/x-python",
   "name": "python",
   "nbconvert_exporter": "python",
   "pygments_lexer": "ipython3",
   "version": "3.6.12"
  }
 },
 "nbformat": 4,
 "nbformat_minor": 4
}
